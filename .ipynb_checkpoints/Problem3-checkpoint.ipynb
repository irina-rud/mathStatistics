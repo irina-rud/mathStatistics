{
 "cells": [
  {
   "cell_type": "code",
   "execution_count": 32,
   "metadata": {
    "collapsed": false
   },
   "outputs": [
    {
     "ename": "SyntaxError",
     "evalue": "invalid syntax (<ipython-input-32-76b7d2665d15>, line 45)",
     "output_type": "error",
     "traceback": [
      "\u001b[1;36m  File \u001b[1;32m\"<ipython-input-32-76b7d2665d15>\"\u001b[1;36m, line \u001b[1;32m45\u001b[0m\n\u001b[1;33m    return s1 += arr[n]*countDencity(arr[n])\u001b[0m\n\u001b[1;37m               ^\u001b[0m\n\u001b[1;31mSyntaxError\u001b[0m\u001b[1;31m:\u001b[0m invalid syntax\n"
     ]
    }
   ],
   "source": [
    "#возьмём распределение Парето c параметром k = 5, тогда заданное условие на моменты будет выполнено.\n",
    "\n",
    "import numpy\n",
    "import random\n",
    "import matplotlib.pyplot as plt\n",
    "%matplotlib inline\n",
    "\n",
    "k = 5\n",
    "N = 10**4\n",
    "Arr = []\n",
    "for i in range (N):\n",
    "    Arr += [numpy.random.pareto(k)]\n",
    "h = []\n",
    "for i in range (N):\n",
    "    h += [0]\n",
    "\n",
    "    \n",
    "\n",
    "def plot(n):\n",
    "    x = range(n)\n",
    "    Y = []\n",
    "    for i in range(n):\n",
    "         Y += [countDencity(i)]\n",
    "    plt.plot(x, Y, color = 'm', label = \"density graph N = \" + str(n))\n",
    "    \n",
    "    plt.plot(Arr, h, color = 'b', label  = \"sample\")\n",
    "    \n",
    "    \n",
    "    legend = plt.legend(loc='upper center', shadow=True, fontsize='x-large')\n",
    "    legend.get_frame().set_facecolor('#00FFCC')\n",
    "    plt.ylim(0, 0.01)\n",
    "    plt.show()\n",
    "    \n",
    "    \n",
    "def countDencity(n):\n",
    "    if n <= 0:\n",
    "        return 0\n",
    "    else:\n",
    "        return k/n**(k+1)\n",
    "    \n",
    "plot(10**2)\n",
    "plot(N)\n",
    "\n",
    "def countS1(n,s1, arr):\n",
    "    return s1 += arr[n]*countDencity(arr[n])\n",
    "\n",
    "def countS2(n, s2, arr):\n",
    "    return s2 += arr[n]**2 * countDencity(arr[n])\n",
    "\n",
    "def countRealDispersion(n, s1, s2, arr):\n",
    "    return (s2 - s1**2)\n",
    "\n",
    "def countTeorDispersion():\n",
    "    return (1/(k - 1)**2 * k / (k-2))\n",
    "    \n",
    "def plotDispersion(n, arr):\n",
    "    x = range(n)\n",
    "    S1 = 0\n",
    "    S2 = 0\n",
    "    Y = []\n",
    "    disp =  countTeorDispersion()\n",
    "    for i in range(n):        \n",
    "        S1 = countS1(i, S1, arr)\n",
    "        S2 = countS2(i, S2, arr )\n",
    "        Y += [countRealDispersion(i, S1, S2, arr) - disp]\n",
    "    \n",
    "    plt.plot(x, Y, color = 'm', label = \"dispersion\")\n",
    "    \n",
    "    \n",
    "    \n",
    "    \n",
    "    \n",
    "    \n",
    "    \n",
    "    \n",
    "    \n",
    "    \n",
    "    \n",
    "    \n",
    "    "
   ]
  }
 ],
 "metadata": {
  "kernelspec": {
   "display_name": "Python 3",
   "language": "python",
   "name": "python3"
  },
  "language_info": {
   "codemirror_mode": {
    "name": "ipython",
    "version": 3
   },
   "file_extension": ".py",
   "mimetype": "text/x-python",
   "name": "python",
   "nbconvert_exporter": "python",
   "pygments_lexer": "ipython3",
   "version": "3.5.0"
  }
 },
 "nbformat": 4,
 "nbformat_minor": 0
}
