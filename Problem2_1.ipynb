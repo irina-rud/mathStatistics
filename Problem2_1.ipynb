{
 "cells": [
  {
   "cell_type": "code",
   "execution_count": 5,
   "metadata": {
    "collapsed": false
   },
   "outputs": [],
   "source": [
    "import random\n",
    "import matplotlib.pyplot as plt\n",
    "from matplotlib import mlab\n",
    "import numpy as np\n",
    "import scipy.stats as sps\n",
    "%matplotlib inline\n",
    "\n",
    "\n",
    "N = 10**3\n",
    "\n",
    "XUnif = []\n",
    "for i in range (N):\n",
    "        XUnif += [random.uniform(0, 1)]\n",
    "XExp = []\n",
    "for i in range (N):\n",
    "    XExp += [random.expovariate(1)]\n",
    "XPareto = []\n",
    "for i in range (N):\n",
    "    XPareto += [np.random.pareto(5)]\n",
    "XCauchy = sps.cauchy.rvs(size = N)"
   ]
  }
 ],
 "metadata": {
  "kernelspec": {
   "display_name": "Python 3",
   "language": "python",
   "name": "python3"
  },
  "language_info": {
   "codemirror_mode": {
    "name": "ipython",
    "version": 3
   },
   "file_extension": ".py",
   "mimetype": "text/x-python",
   "name": "python",
   "nbconvert_exporter": "python",
   "pygments_lexer": "ipython3",
   "version": "3.5.0"
  }
 },
 "nbformat": 4,
 "nbformat_minor": 0
}
