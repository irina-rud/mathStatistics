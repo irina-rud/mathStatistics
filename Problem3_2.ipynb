{
 "cells": [
  {
   "cell_type": "code",
   "execution_count": null,
   "metadata": {
    "collapsed": false
   },
   "outputs": [],
   "source": [
    "import numpy as np\n",
    "import scipy.stats as sps\n",
    "import matplotlib.pyplot as plt\n",
    "from numpy import random\n",
    "from matplotlib import rcParams\n",
    "import math\n",
    "%matplotlib inline\n",
    "\n",
    "N = 10**3\n",
    "m = 50\n",
    "a = 3\n",
    "sigma_kv = 2.1\n",
    "p = 1/2\n",
    "K = 500\n",
    "\n",
    "caushy_file = 'cauchy.txt'\n",
    "weibull_file = 'weibull.txt'\n",
    "\n",
    "def get_param(arr):\n",
    "    rand = random.randint(0, len(arr)-1)\n",
    "    return arr[rand]\n",
    "\n",
    "def disp(param, arr):\n",
    "    res = 0\n",
    "    for i in range (len(arr) - 1):\n",
    "        res += (a - sum(arr[i]) / (i+1) )**2\n",
    "    return res/len(arr)\n",
    "\n",
    "def stat():\n",
    "    \n",
    "    f = open(caushy_file) \n",
    "    A = f.readlines()\n",
    "\n",
    "    param2 = get_param(A)\n",
    "    X1 = random.normal(a, param2, size = N)\n",
    "    X2 = random.normal(param2, sigma_kv, size = N)\n",
    "    X3 = sps.binom.rvs(m,p, size = N)\n",
    "    \n",
    "    X1_disp = []\n",
    "    summ = 0\n",
    "    for i in range (N - 1):\n",
    "        summ += X1[i]\n",
    "        a_n = summ/ (i+1)\n",
    "        X1_but = [random.normal(a_n, param2, size = i+1) for j in range(K)]\n",
    "        X1_disp += [disp(a_n, X1_but)]\n",
    "    \n",
    "    n = range(N-1)\n",
    "    plt.plot(n, X1_disp, color = 'r', label = \"a* = S1\")\n",
    "    legend = plt.legend(loc='upper center', shadow=True, fontsize='x-large')\n",
    "    legend.get_frame().set_facecolor('#00FFCC')\n",
    "    plt.show()\n",
    "    \n",
    "\n",
    "stat()\n",
    "\n"
   ]
  },
  {
   "cell_type": "code",
   "execution_count": null,
   "metadata": {
    "collapsed": true
   },
   "outputs": [],
   "source": []
  },
  {
   "cell_type": "code",
   "execution_count": null,
   "metadata": {
    "collapsed": true
   },
   "outputs": [],
   "source": []
  }
 ],
 "metadata": {
  "kernelspec": {
   "display_name": "Python 3",
   "language": "python",
   "name": "python3"
  },
  "language_info": {
   "codemirror_mode": {
    "name": "ipython",
    "version": 3
   },
   "file_extension": ".py",
   "mimetype": "text/x-python",
   "name": "python",
   "nbconvert_exporter": "python",
   "pygments_lexer": "ipython3",
   "version": "3.5.0"
  }
 },
 "nbformat": 4,
 "nbformat_minor": 0
}
