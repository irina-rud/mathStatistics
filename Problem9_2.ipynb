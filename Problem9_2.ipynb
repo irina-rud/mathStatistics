{
 "cells": [
  {
   "cell_type": "code",
   "execution_count": 2,
   "metadata": {
    "collapsed": false
   },
   "outputs": [],
   "source": [
    "import numpy as np\n",
    "import matplotlib.pyplot as plt\n",
    "%matplotlib inline\n",
    "import scipy.stats as sps\n",
    "\n",
    "\n",
    "file = open('distance.txt')\n",
    "data = file.readlines()\n",
    "inp = [float(data[i]) for i in range (len(data))]\n",
    "file.close()\n",
    "# print(inp)"
   ]
  },
  {
   "cell_type": "markdown",
   "metadata": {},
   "source": [
    "Из теоретической задачи 9.2:\n",
    "\n",
    "$\\hat {\\beta_1} = X_0$, $\\hat {\\beta_2} = \\frac{X_n - X_0}{n}$\n",
    "\n",
    "$\\hat {\\sigma^2} = \\frac{1}{n-1} \\Sigma{(X_i - X_{i-1} - \\frac{X_n - X_0}{n})^2}$,   $\\hat {\\sigma_t^2} = \\frac{\\hat {\\sigma^2}}{\\hat {\\beta_2}^2}$"
   ]
  },
  {
   "cell_type": "code",
   "execution_count": 3,
   "metadata": {
    "collapsed": false
   },
   "outputs": [],
   "source": [
    "hatted_beta1 = inp[0]\n",
    "hatted_beta2 = (inp[(len(inp) - 1)] - inp[0]) / (len(inp) - 1)\n",
    "hatted_sigma2 = np.sum([(inp[i] - inp[i - 1] - hatted_beta2) ** 2  for i in range(1, len(inp))]) / (len(inp) - 1)\n",
    "hatted_sigma2t = hatted_sigma2 / (hatted_beta2 ** 2)\n",
    "output_file = open(\"494 Руденко Ирина.txt\", 'w')\n",
    "output_file.write(str(hatted_beta1) + \" \"+ str(hatted_beta2) +\" \"+ str(hatted_sigma2) +\" \"+ str(hatted_sigma2t))\n",
    "output_file.close()"
   ]
  }
 ],
 "metadata": {
  "kernelspec": {
   "display_name": "Python 3",
   "language": "python",
   "name": "python3"
  },
  "language_info": {
   "codemirror_mode": {
    "name": "ipython",
    "version": 3
   },
   "file_extension": ".py",
   "mimetype": "text/x-python",
   "name": "python",
   "nbconvert_exporter": "python",
   "pygments_lexer": "ipython3",
   "version": "3.5.0"
  }
 },
 "nbformat": 4,
 "nbformat_minor": 0
}
