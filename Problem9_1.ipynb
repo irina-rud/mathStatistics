{
 "cells": [
  {
   "cell_type": "code",
   "execution_count": 4,
   "metadata": {
    "collapsed": false
   },
   "outputs": [],
   "source": [
    "import pandas as pd\n",
    "import numpy as np\n",
    "import matplotlib.pyplot as plt\n",
    "import scipy.stats as sts\n",
    "%matplotlib inline\n",
    "from sklearn.cross_validation import KFold\n",
    "import sklearn.cross_validation as cross_validation\n",
    "def getX(data):\n",
    "    return data.drop('area', 1)\n",
    "\n",
    "def getY(data):\n",
    "     return data['area']\n"
   ]
  },
  {
   "cell_type": "code",
   "execution_count": 44,
   "metadata": {
    "collapsed": false
   },
   "outputs": [],
   "source": [
    "data = pd.read_csv(\"forestfires.csv\")\n",
    "data = data.reindex(np.random.permutation(data.index))\n",
    "data = pd.get_dummies(data)\n",
    "one = np.ones((1, len(data)))\n",
    "one = pd.DataFrame(one.T)\n",
    "data = pd.concat([one, data], axis=1, join_axes=[data.index])"
   ]
  },
  {
   "cell_type": "code",
   "execution_count": 45,
   "metadata": {
    "collapsed": true
   },
   "outputs": [],
   "source": [
    "train_size = int(len(data) * 0.7)\n",
    "train = data[:train_size]\n",
    "test = data[train_size:]"
   ]
  },
  {
   "cell_type": "code",
   "execution_count": 46,
   "metadata": {
    "collapsed": false
   },
   "outputs": [],
   "source": [
    "from sklearn.linear_model import LinearRegression\n",
    "from sklearn.cross_validation import KFold\n",
    "cv = KFold(n = len(data), n_folds=5, shuffle=True)"
   ]
  },
  {
   "cell_type": "code",
   "execution_count": 47,
   "metadata": {
    "collapsed": true
   },
   "outputs": [],
   "source": [
    "def mserror(y, y_pred):\n",
    "    return np.mean((y - y_pred)**2)"
   ]
  },
  {
   "cell_type": "code",
   "execution_count": 48,
   "metadata": {
    "collapsed": false
   },
   "outputs": [
    {
     "data": {
      "text/plain": [
       "749.9317057423159"
      ]
     },
     "execution_count": 48,
     "metadata": {},
     "output_type": "execute_result"
    }
   ],
   "source": [
    "lg = LinearRegression(n_jobs=-1, normalize=False)\n",
    "lg.fit(getX(train), getY(train))\n",
    "mserror(getY(test), lg.predict(getX(test)))"
   ]
  },
  {
   "cell_type": "code",
   "execution_count": 49,
   "metadata": {
    "collapsed": false
   },
   "outputs": [],
   "source": [
    "def getYLog(data, c):\n",
    "    return np.log(getY(data) + c)"
   ]
  },
  {
   "cell_type": "code",
   "execution_count": 50,
   "metadata": {
    "collapsed": false
   },
   "outputs": [
    {
     "name": "stdout",
     "output_type": "stream",
     "text": [
      "506.02913745914947\n",
      "517.6720443996114\n"
     ]
    }
   ],
   "source": [
    "lg = LinearRegression(n_jobs=-1, normalize=False)\n",
    "lg.fit(getX(train), getYLog(train, 1))\n",
    "print(mserror(getY(test), np.exp(lg.predict(getX(test)))))\n",
    "print(mserror(getY(test), np.exp(lg.predict(getX(test))) - 1))"
   ]
  },
  {
   "cell_type": "code",
   "execution_count": 51,
   "metadata": {
    "collapsed": false
   },
   "outputs": [
    {
     "data": {
      "image/png": "[encoded data removed]",
      "text/plain": [
       "<matplotlib.figure.Figure at 0x7fabc02abdd8>"
      ]
     },
     "metadata": {},
     "output_type": "display_data"
    }
   ],
   "source": [
    "cs = np.arange(0.01, 100, 1)\n",
    "squareErr = []\n",
    "for c in cs:\n",
    "    lg = LinearRegression(n_jobs=-1, normalize=False)\n",
    "    lg.fit(getX(train), getYLog(train, c))\n",
    "    err = mserror(getY(test), np.exp(lg.predict(getX(test))) - c)\n",
    "    squareErr.append(err)\n",
    "plt.plot(cs, squareErr)\n",
    "b = cs[squareErr.index(min(squareErr))]"
   ]
  },
  {
   "cell_type": "code",
   "execution_count": 53,
   "metadata": {
    "collapsed": false
   },
   "outputs": [
    {
     "data": {
      "image/png": "[encoded data removed]",
      "text/plain": [
       "<matplotlib.figure.Figure at 0x7fabc01f55c0>"
      ]
     },
     "metadata": {},
     "output_type": "display_data"
    }
   ],
   "source": [
    "cs = np.arange(20, 60, 0.5)\n",
    "squareErr = []\n",
    "for c in cs:\n",
    "    lg = LinearRegression(n_jobs=-1, normalize=False)\n",
    "    lg.fit(getX(train), getYLog(train, c))\n",
    "    err = mserror(getY(test), np.exp(lg.predict(getX(test))) - c)\n",
    "    squareErr.append(err)\n",
    "plt.plot(cs, squareErr)\n",
    "b = cs[squareErr.index(min(squareErr))]"
   ]
  },
  {
   "cell_type": "code",
   "execution_count": 55,
   "metadata": {
    "collapsed": false
   },
   "outputs": [
    {
     "data": {
      "image/png": "[encoded data removed]",
      "text/plain": [
       "<matplotlib.figure.Figure at 0x7fabc01e30f0>"
      ]
     },
     "metadata": {},
     "output_type": "display_data"
    }
   ],
   "source": [
    "cs = np.arange(35, 50, 0.001)\n",
    "squareErr = []\n",
    "for c in cs:\n",
    "    lg = LinearRegression(n_jobs=-1, normalize=False)\n",
    "    lg.fit(getX(train), getYLog(train, c))\n",
    "    err = mserror(getY(test), np.exp(lg.predict(getX(test))) - c)\n",
    "    squareErr.append(err)\n",
    "plt.plot(cs, squareErr)\n",
    "b = cs[squareErr.index(min(squareErr))]"
   ]
  },
  {
   "cell_type": "code",
   "execution_count": 56,
   "metadata": {
    "collapsed": false
   },
   "outputs": [
    {
     "name": "stdout",
     "output_type": "stream",
     "text": [
      "44.187\n"
     ]
    },
    {
     "data": {
      "text/plain": [
       "473.7041037592068"
      ]
     },
     "execution_count": 56,
     "metadata": {},
     "output_type": "execute_result"
    }
   ],
   "source": [
    "print(b)\n",
    "lg = LinearRegression(n_jobs=-1, normalize=False)\n",
    "lg.fit(getX(train), getYLog(train, b))\n",
    "mserror(getY(test), np.exp(lg.predict(getX(test))) - b)"
   ]
  },
  {
   "cell_type": "markdown",
   "metadata": {
    "collapsed": false
   },
   "source": [
    "Видно, в какой точке достигается минимальное значение ошибки, теперь посмотрим зависимость от разбиения"
   ]
  },
  {
   "cell_type": "code",
   "execution_count": 58,
   "metadata": {
    "collapsed": false
   },
   "outputs": [
    {
     "name": "stdout",
     "output_type": "stream",
     "text": [
      "minerr = 174.279669702\n",
      "maxerr = 9.4636141089e+16\n"
     ]
    },
    {
     "data": {
      "image/png": "[encoded data removed]",
      "text/plain": [
       "<matplotlib.figure.Figure at 0x7fabc03d5c50>"
      ]
     },
     "metadata": {},
     "output_type": "display_data"
    }
   ],
   "source": [
    "squareErr = []\n",
    "for c in range(100):\n",
    "    data = data.reindex(np.random.permutation(data.index))\n",
    "    train = data[:train_size]\n",
    "    test = data[train_size:]\n",
    "    lg = LinearRegression(n_jobs=-1, normalize=False)\n",
    "    lg.fit(getX(train), getYLog(train, b))\n",
    "    err = mserror(getY(test), np.exp(lg.predict(getX(test))) - b)\n",
    "    squareErr.append(err)\n",
    "plt.plot(range(100), squareErr)\n",
    "print(\"minerr = \"+ str(np.min(squareErr)))\n",
    "print(\"maxerr = \"+ str(np.max(squareErr)))"
   ]
  },
  {
   "cell_type": "markdown",
   "metadata": {},
   "source": [
    "Видно, что от разбиения ошибка очень сильно зависит, Штирлиц, это провал:)"
   ]
  }
 ],
 "metadata": {
  "kernelspec": {
   "display_name": "Python 3",
   "language": "python",
   "name": "python3"
  },
  "language_info": {
   "codemirror_mode": {
    "name": "ipython",
    "version": 3
   },
   "file_extension": ".py",
   "mimetype": "text/x-python",
   "name": "python",
   "nbconvert_exporter": "python",
   "pygments_lexer": "ipython3",
   "version": "3.5.0"
  }
 },
 "nbformat": 4,
 "nbformat_minor": 0
}
