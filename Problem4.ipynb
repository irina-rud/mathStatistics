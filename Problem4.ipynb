{
 "cells": [
  {
   "cell_type": "code",
   "execution_count": null,
   "metadata": {
    "collapsed": false
   },
   "outputs": [],
   "source": [
    "import numpy as np\n",
    "import random\n",
    "import matplotlib.pyplot as plt\n",
    "import scipy.stats as sps\n",
    "from scipy.stats import cumfreq\n",
    "from scipy.stats import norm\n",
    "from numpy import histogram\n",
    "import statsmodels.api as sm\n",
    "%matplotlib inline\n",
    "\n",
    "k = 5\n",
    "N = 10**4\n",
    "Arr = sps.norm.rvs(size = N)\n",
    "\n",
    "nums = [10,25,50,100,1000,10000]\n",
    "\n",
    "\n",
    "\n",
    "def plotEmpiricalDistr(arr, n):\n",
    "    ecdf = sm.distributions.ECDF(arr)\n",
    "\n",
    "    x = np.linspace(min(arr), max(arr))\n",
    "    y = ecdf(x)\n",
    "    plt.step(x, y)\n",
    "    plt.plot(x, sps.norm.cdf(x), 'r', label = r'$\\aleph(0,1)$')\n",
    "    plt.show()\n",
    "\n",
    "for n in nums:\n",
    "    if n <= N:\n",
    "        plotEmpiricalDistr(Arr[0:n:], n)\n",
    "\n",
    "def countD(arr):\n",
    "    D = []\n",
    "    for n in range(len(arr)):\n",
    "        maxVal = 0\n",
    "        distr_n = buildDistribution(arr)\n",
    "        for x in arr[0:n:]:\n",
    "            maxVal = abs(distr_n.cdf(x) - sps.norm.cdf(x))\n",
    "        D += [maxVal]\n",
    "    \n",
    "    A_X = np.arange(1,len(arr) + 1,1)\n",
    "    \n",
    "    plt.plot(A_X, D, 'c', label = r'$D_{n} = \\sup_{x \\in \\Re}|F_{n}(x) - F(x)|$')\n",
    "    \n",
    "    plt.xlabel('n')\n",
    "    plt.ylabel('D(n)')\n",
    "    \n",
    "    plt.legend(loc = 'best')\n",
    "    plt.show()\n",
    "\n",
    "\n",
    "def buildDistribution(arr):\n",
    "    class distr(sps.rv_discrete):\n",
    "        def cdf(self,v):\n",
    "            sum = 0\n",
    "            for i in range(len(arr)):\n",
    "                if (v - arr[i]) >= 0:\n",
    "                    sum += 1\n",
    "                sum /= len(arr)\n",
    "            return sum\n",
    "    empDistr = distr(name='empirical distribution')\n",
    "    return empDistr\n",
    "\n",
    "countD(Arr)\n"
   ]
  }
 ],
 "metadata": {
  "kernelspec": {
   "display_name": "Python 3",
   "language": "python",
   "name": "python3"
  },
  "language_info": {
   "codemirror_mode": {
    "name": "ipython",
    "version": 3
   },
   "file_extension": ".py",
   "mimetype": "text/x-python",
   "name": "python",
   "nbconvert_exporter": "python",
   "pygments_lexer": "ipython3",
   "version": "3.5.0"
  }
 },
 "nbformat": 4,
 "nbformat_minor": 0
}
